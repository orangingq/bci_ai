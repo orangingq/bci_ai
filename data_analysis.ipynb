{
 "cells": [
  {
   "cell_type": "code",
   "execution_count": null,
   "metadata": {},
   "outputs": [],
   "source": [
    "from torchvision import transforms\n",
    "from BCI_dataset.dataloader import BCIDataset\n",
    "from matplotlib import pyplot as plt"
   ]
  },
  {
   "cell_type": "code",
   "execution_count": null,
   "metadata": {},
   "outputs": [],
   "source": [
    "image_size = 224\n",
    "data_dir = 'BCI_dataset'"
   ]
  },
  {
   "cell_type": "code",
   "execution_count": null,
   "metadata": {},
   "outputs": [],
   "source": [
    "transform = transforms.Compose([\n",
    "        transforms.ToTensor(),\n",
    "        transforms.Resize((image_size, image_size)),\n",
    "        transforms.Normalize((0.5,), (0.5,))\n",
    "    ])\n",
    "\n",
    "train_dataset = BCIDataset(data_dir=data_dir, type='train', transform=transform)\n",
    "test_dataset = BCIDataset(data_dir=data_dir, type='test', transform=transform)\n",
    "    "
   ]
  },
  {
   "cell_type": "code",
   "execution_count": null,
   "metadata": {},
   "outputs": [],
   "source": [
    "def show_pil_image(pil_image, title='PIL Image'):\n",
    "    plt.imshow(pil_image)\n",
    "    plt.title(title)\n",
    "    plt.axis('off')\n",
    "    plt.show()\n",
    "    return"
   ]
  },
  {
   "cell_type": "code",
   "execution_count": null,
   "metadata": {},
   "outputs": [],
   "source": [
    "from utils import show_image\n",
    "HE_image, IHC_image, label = train_dataset.__getitem__(0).values()\n",
    "original_HE_image = train_dataset.HEdata[0]\n",
    "print(show_image(HE_image))\n",
    "print(show_pil_image(original_HE_image))"
   ]
  },
  {
   "cell_type": "markdown",
   "metadata": {},
   "source": [
    "# RUN model"
   ]
  },
  {
   "cell_type": "code",
   "execution_count": 1,
   "metadata": {},
   "outputs": [],
   "source": [
    "import os\n",
    "os.environ[\"CUDA_VISIBLE_DEVICES\"] = \"1\"\n",
    "os.environ[\"CUBLAS_WORKSPACE_CONFIG\"] = \":16:8\""
   ]
  },
  {
   "cell_type": "code",
   "execution_count": 2,
   "metadata": {},
   "outputs": [
    {
     "name": "stdout",
     "output_type": "stream",
     "text": [
      "\n",
      "Epoch 1/300\n",
      "----------\n",
      "\tStep 10/122: train_log_loss: 5.4105 | train_log_acc: 0.2687\n",
      "\tStep 20/122: train_log_loss: 1.5018 | train_log_acc: 0.4562\n",
      "\tStep 30/122: train_log_loss: 1.3299 | train_log_acc: 0.3656\n",
      "\tStep 40/122: train_log_loss: 1.2916 | train_log_acc: 0.3906\n",
      "\tStep 50/122: train_log_loss: 1.1210 | train_log_acc: 0.5188\n",
      "\tStep 60/122: train_log_loss: 1.2393 | train_log_acc: 0.4531\n",
      "^C\n",
      "Traceback (most recent call last):\n",
      "  File \"/data3/shcho/bci_ai/main.py\", line 72, in <module>\n",
      "    main()\n",
      "  File \"/data3/shcho/bci_ai/main.py\", line 36, in main\n",
      "    train_avg_loss, train_avg_acc = train(dataloaders['train'], model, criterion, optimizer)\n",
      "  File \"/data3/shcho/bci_ai/train.py\", line 31, in train\n",
      "    for step, batch in enumerate(dataloader):\n",
      "  File \"/home/shcho/anaconda3/envs/kan/lib/python3.10/site-packages/torch/utils/data/dataloader.py\", line 630, in __next__\n",
      "    data = self._next_data()\n",
      "  File \"/home/shcho/anaconda3/envs/kan/lib/python3.10/site-packages/torch/utils/data/dataloader.py\", line 1327, in _next_data\n",
      "    idx, data = self._get_data()\n",
      "  File \"/home/shcho/anaconda3/envs/kan/lib/python3.10/site-packages/torch/utils/data/dataloader.py\", line 1293, in _get_data\n",
      "    success, data = self._try_get_data()\n",
      "  File \"/home/shcho/anaconda3/envs/kan/lib/python3.10/site-packages/torch/utils/data/dataloader.py\", line 1131, in _try_get_data\n",
      "    data = self._data_queue.get(timeout=timeout)\n",
      "  File \"/home/shcho/anaconda3/envs/kan/lib/python3.10/multiprocessing/queues.py\", line 113, in get\n",
      "    if not self._poll(timeout):\n",
      "  File \"/home/shcho/anaconda3/envs/kan/lib/python3.10/multiprocessing/connection.py\", line 257, in poll\n",
      "    return self._poll(timeout)\n",
      "  File \"/home/shcho/anaconda3/envs/kan/lib/python3.10/multiprocessing/connection.py\", line 424, in _poll\n",
      "    r = wait([self], timeout)\n",
      "  File \"/home/shcho/anaconda3/envs/kan/lib/python3.10/multiprocessing/connection.py\", line 931, in wait\n",
      "    ready = selector.select(timeout)\n",
      "  File \"/home/shcho/anaconda3/envs/kan/lib/python3.10/selectors.py\", line 416, in select\n",
      "    fd_event_list = self._selector.poll(timeout)\n",
      "KeyboardInterrupt\n"
     ]
    }
   ],
   "source": [
    "!python main.py --model_name=resnet18"
   ]
  }
 ],
 "metadata": {
  "kernelspec": {
   "display_name": "kan",
   "language": "python",
   "name": "python3"
  },
  "language_info": {
   "codemirror_mode": {
    "name": "ipython",
    "version": 3
   },
   "file_extension": ".py",
   "mimetype": "text/x-python",
   "name": "python",
   "nbconvert_exporter": "python",
   "pygments_lexer": "ipython3",
   "version": "3.10.14"
  }
 },
 "nbformat": 4,
 "nbformat_minor": 2
}
