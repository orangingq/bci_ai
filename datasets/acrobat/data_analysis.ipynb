{
 "cells": [
  {
   "cell_type": "code",
   "execution_count": 1,
   "metadata": {},
   "outputs": [],
   "source": [
    "from PIL import Image, ImageFile\n",
    "import os\n",
    "from matplotlib import pyplot as plt\n",
    "import tifffile as tiff"
   ]
  },
  {
   "cell_type": "code",
   "execution_count": 2,
   "metadata": {},
   "outputs": [],
   "source": [
    "def image_path(patient, img_type='all', type='train'):\n",
    "    data_dir = os.getcwd() # 'datasets/acrobat'\n",
    "    directory = os.path.join(data_dir, type)\n",
    "    ER_path = os.path.join(directory, f'{patient}_ER_{type}.tif')\n",
    "    HE_path = os.path.join(directory, f'{patient}_HE_{type}.tif')\n",
    "    HER2_path = os.path.join(directory, f'{patient}_HER2_{type}.tif')\n",
    "    KI67_path = os.path.join(directory, f'{patient}_KI67_{type}.tif')\n",
    "    PGR_path = os.path.join(directory, f'{patient}_PGR_{type}.tif')\n",
    "    paths = {}\n",
    "    if os.path.exists(ER_path):\n",
    "        paths['ER'] = ER_path\n",
    "    if os.path.exists(HE_path):\n",
    "        paths['HE'] = HE_path\n",
    "    if os.path.exists(HER2_path):\n",
    "        paths['HER2'] = HER2_path\n",
    "    if os.path.exists(KI67_path):\n",
    "        paths['KI67'] = KI67_path\n",
    "    if os.path.exists(PGR_path):\n",
    "        paths['PGR'] = PGR_path\n",
    "    if img_type == 'all':\n",
    "        return paths\n",
    "    else:\n",
    "        return paths[img_type]"
   ]
  },
  {
   "cell_type": "code",
   "execution_count": null,
   "metadata": {},
   "outputs": [],
   "source": [
    "paths = image_path(42)\n",
    "\n",
    "# Open the large TIFF file\n",
    "for img_type, path in paths.items():\n",
    "    with tiff.TiffFile(path) as tif:\n",
    "        for page in tif.pages:\n",
    "            print(f\"[{img_type}]\\tshape : {page.shape}, dtype: {page.dtype}\")"
   ]
  },
  {
   "cell_type": "code",
   "execution_count": 4,
   "metadata": {},
   "outputs": [],
   "source": [
    "# Load the image\n",
    "def load_image(filepath, resolution='medium'):\n",
    "    page=2\n",
    "    if resolution == 'low':\n",
    "        page=-2\n",
    "    elif resolution == 'high':\n",
    "        page=0\n",
    "    with tiff.TiffFile(filepath) as tif:\n",
    "        image = tif.pages[page].asarray() # medium resolution\n",
    "    return image # (H, W, C)"
   ]
  },
  {
   "cell_type": "code",
   "execution_count": null,
   "metadata": {},
   "outputs": [],
   "source": [
    "img = load_image(image_path(42, 'ER'))\n",
    "\n",
    "plt.imshow(img)"
   ]
  },
  {
   "cell_type": "markdown",
   "metadata": {},
   "source": [
    "# Preprocess \n",
    "## 1. Crop the tissue part"
   ]
  },
  {
   "cell_type": "code",
   "execution_count": 6,
   "metadata": {},
   "outputs": [],
   "source": [
    "import cv2\n",
    "import numpy as np\n",
    "\n",
    "# Function to check if a window contains tissue\n",
    "def is_tissue_present(patch, threshold_value=200, min_tissue_ratio=0.05):\n",
    "\n",
    "    # Convert the patch to grayscale\n",
    "    gray_patch = cv2.cvtColor(patch, cv2.COLOR_RGB2GRAY)\n",
    "    \n",
    "    # Apply binary thresholding\n",
    "    _, binary_patch = cv2.threshold(gray_patch, threshold_value, 255, cv2.THRESH_BINARY)\n",
    "    \n",
    "    # Calculate the percentage of non-white pixels (tissue)\n",
    "    non_background_pixels = np.sum(binary_patch == 0)  # Count black pixels (tissue)\n",
    "    total_pixels = patch.shape[0] * patch.shape[1]\n",
    "    \n",
    "    tissue_ratio = non_background_pixels / total_pixels\n",
    "    \n",
    "    return tissue_ratio > min_tissue_ratio\n",
    "\n",
    "# Function to slide a window over the image\n",
    "def sliding_window(image, window_size, step_size, padding=100):\n",
    "    assert padding < image.shape[0] - window_size[1] -padding + 1 and padding < image.shape[1] - window_size[0] -padding + 1, f\"Padding is too large : {padding} < {image.shape[0] - window_size[1] -padding + 1}, {padding} < {image.shape[1] - window_size[0] -padding + 1}\"\n",
    "    for y in range(padding, image.shape[0] - window_size[1] -padding + 1, step_size):\n",
    "        for x in range(padding, image.shape[1] - window_size[0] -padding + 1, step_size):\n",
    "            patch = image[y:y + window_size[1], x:x + window_size[0]]\n",
    "            yield (x, y, patch)\n",
    "\n",
    "# Function to find the bounding box of the tissue region\n",
    "def find_tissue_bounding_box(image, window_size=(512, 512), step_size=256, threshold_value=200, min_tissue_ratio=0.05, padding=100):\n",
    "    tissue_coords = []\n",
    "\n",
    "    # Slide window over the image\n",
    "    for (x, y, patch) in sliding_window(image, window_size, step_size, padding):\n",
    "        if is_tissue_present(patch, threshold_value, min_tissue_ratio):\n",
    "            tissue_coords.append((x, y, x + window_size[0], y + window_size[1]))\n",
    "\n",
    "    if not tissue_coords:\n",
    "        # print(\"No tissue found.\")\n",
    "        return None, None, None, None\n",
    "    \n",
    "    # Calculate the bounding box that covers all tissue regions\n",
    "    x_min = min([x1 for (x1, y1, x2, y2) in tissue_coords])\n",
    "    y_min = min([y1 for (x1, y1, x2, y2) in tissue_coords])\n",
    "    x_max = max([x2 for (x1, y1, x2, y2) in tissue_coords])\n",
    "    y_max = max([y2 for (x1, y1, x2, y2) in tissue_coords])\n",
    "\n",
    "    return x_min, y_min, x_max - x_min, y_max - y_min\n",
    "\n",
    "# Full process\n",
    "def process_image(image, threshold_value=200, min_tissue_ratio='auto', padding=100):\n",
    "    padding = max(padding, 1)\n",
    "    if image.shape[0] < image.shape[1]:\n",
    "        window_size = (image.shape[0]//2 - 2*padding, image.shape[0] - 2*padding) # (x, y)\n",
    "        step_size = image.shape[0]//8\n",
    "    else:\n",
    "        window_size = (image.shape[1] - 2*padding, image.shape[1]//2 - 2*padding)\n",
    "        step_size = image.shape[1]//8\n",
    "\n",
    "    if min_tissue_ratio == 'auto': # Calculate min_tissue_ratio\n",
    "        gray_patch = cv2.cvtColor(image[padding:-padding, padding:-padding, :], cv2.COLOR_RGB2GRAY)\n",
    "        _, binary_patch = cv2.threshold(gray_patch, threshold_value, 255, cv2.THRESH_BINARY)\n",
    "        non_background_pixels = np.sum(binary_patch == 0)  # Count black pixels (tissue)\n",
    "        total_pixels = binary_patch.shape[0] * binary_patch.shape[1]\n",
    "        min_tissue_ratio = non_background_pixels / total_pixels\n",
    "        # print(f\"Set min_tissue_ratio: {min_tissue_ratio}\")\n",
    "\n",
    "    x, y, w, h = find_tissue_bounding_box(image, window_size, step_size, threshold_value, min_tissue_ratio, padding)\n",
    "    \n",
    "    if x is None:\n",
    "        while threshold_value > 0 and x is None:\n",
    "            threshold_value -= 10\n",
    "            min_tissue_ratio -= 0.01\n",
    "            # print('threshold_value : ', threshold_value)\n",
    "            x, y, w, h = find_tissue_bounding_box(image, window_size, step_size, threshold_value, min_tissue_ratio, padding)\n",
    "    \n",
    "    return (x, y, w, h)"
   ]
  },
  {
   "cell_type": "code",
   "execution_count": 7,
   "metadata": {},
   "outputs": [],
   "source": [
    "# Function to crop the ROI\n",
    "def crop_roi(image, x, y, w, h):\n",
    "    return image[y:y+h, x:x+w]"
   ]
  },
  {
   "cell_type": "code",
   "execution_count": null,
   "metadata": {},
   "outputs": [],
   "source": [
    "# Original image\n",
    "img = load_image(image_path(42, 'ER'))\n",
    "plt.title(\"Original Image (x0.1 downsampled)\")\n",
    "plt.imshow(img[::10, ::10, :])"
   ]
  },
  {
   "cell_type": "code",
   "execution_count": null,
   "metadata": {},
   "outputs": [],
   "source": [
    "from matplotlib.patches import Rectangle\n",
    "\n",
    "# Draw a rectangle around the ROI on the original image\n",
    "x, y, w, h = process_image(img, min_tissue_ratio='auto')\n",
    "if x is not None:\n",
    "    fig, ax = plt.subplots()\n",
    "    ax.imshow(img[::10, ::10, :])\n",
    "    rect = Rectangle((x//10, y//10), w//10, h//10, linewidth=2, edgecolor='r', facecolor='none')\n",
    "    ax.add_patch(rect)\n",
    "    plt.title(\"Original Image with ROI (x0.1 downsampled)\")\n",
    "    plt.show()"
   ]
  },
  {
   "cell_type": "code",
   "execution_count": null,
   "metadata": {},
   "outputs": [],
   "source": [
    "# Processed image (tissue only)\n",
    "x, y, w, h = process_image(img)\n",
    "cropped_image = crop_roi(img, x, y, w, h)\n",
    "if cropped_image is not None:\n",
    "    plt.title(\"Cropped Tissue (x0.1 downsampled)\")\n",
    "    plt.imshow(cropped_image[::10, ::10, :])"
   ]
  },
  {
   "cell_type": "markdown",
   "metadata": {},
   "source": [
    "## 2. Preprocess every image"
   ]
  },
  {
   "cell_type": "code",
   "execution_count": 11,
   "metadata": {},
   "outputs": [],
   "source": [
    "def draw_bbox(image, x, y, w, h, title=\"Original Image with ROI\"):\n",
    "    fig, ax = plt.subplots()\n",
    "    ax.imshow(image)\n",
    "    rect = Rectangle((x, y), w, h, linewidth=2, edgecolor='r', facecolor='none')\n",
    "    ax.add_patch(rect)\n",
    "    plt.title(title)\n",
    "    plt.show()\n",
    "    return"
   ]
  },
  {
   "cell_type": "code",
   "execution_count": 12,
   "metadata": {},
   "outputs": [],
   "source": [
    "def draw_roi_for_patient(patient, resolution='medium', padding=100):\n",
    "    paths = image_path(patient)\n",
    "    num_images = len(paths)\n",
    "    fig, axes = plt.subplots(1, num_images, figsize=(20, num_images))\n",
    "    for ax, (img_type, path) in zip(axes, paths.items()):\n",
    "        img = load_image(path, resolution)\n",
    "        ax.imshow(img.copy())\n",
    "        x, y, w, h = process_image(img, padding=padding)\n",
    "        if x is not None:\n",
    "            rect = Rectangle((x, y), w, h, linewidth=2, edgecolor='r', facecolor='none')\n",
    "            ax.add_patch(rect)\n",
    "        ax.set_title(f\"{img_type} Image with ROI\")\n",
    "        # ax.axis('off')\n",
    "\n",
    "    plt.tight_layout()\n",
    "    plt.show()\n",
    "    return "
   ]
  },
  {
   "cell_type": "code",
   "execution_count": null,
   "metadata": {},
   "outputs": [],
   "source": [
    "draw_roi_for_patient(42)"
   ]
  },
  {
   "cell_type": "code",
   "execution_count": 14,
   "metadata": {},
   "outputs": [],
   "source": [
    "def crop_roi_for_patient(patient, resolution='medium', padding=100, save=False):\n",
    "    paths = image_path(patient)\n",
    "    num_images = len(paths)\n",
    "    fig, axes = plt.subplots(1, num_images, figsize=(20, num_images))\n",
    "    save_to = os.path.join(os.path.dirname(list(paths.values())[0]), 'roi')\n",
    "    if not os.path.exists(save_to):\n",
    "        os.makedirs(save_to)\n",
    "    for ax, (img_type, path) in zip(axes, paths.items()):\n",
    "        img = load_image(path, resolution)\n",
    "        x, y, w, h = process_image(img, padding=padding)\n",
    "        if x is not None:\n",
    "            roi = crop_roi(img, x, y, w, h)\n",
    "            if save:\n",
    "                Image.fromarray(roi).save(os.path.join(save_to, f'{patient}_{img_type}_ROI.png'))\n",
    "            ax.imshow(roi)\n",
    "        ax.set_title(f\"Cropped {img_type} Image\")\n",
    "        # ax.axis('off')\n",
    "\n",
    "    plt.tight_layout()\n",
    "    plt.show()\n",
    "    return"
   ]
  },
  {
   "cell_type": "code",
   "execution_count": null,
   "metadata": {},
   "outputs": [],
   "source": [
    "crop_roi_for_patient(42, save=True)"
   ]
  },
  {
   "cell_type": "code",
   "execution_count": null,
   "metadata": {},
   "outputs": [],
   "source": [
    "for patient in range(0, 147, 10):\n",
    "    print(f\"Patient {patient}\")\n",
    "    draw_roi_for_patient(patient, padding=300)"
   ]
  },
  {
   "cell_type": "markdown",
   "metadata": {},
   "source": [
    "### Place WSI files  as `WSI\\[DATASET_NAME]\\[CATEGORY_NAME]\\[SLIDE_FOLDER_NAME] (optional)\\SLIDE_NAME.tif`"
   ]
  },
  {
   "cell_type": "code",
   "execution_count": null,
   "metadata": {},
   "outputs": [],
   "source": [
    "import shutil\n",
    "import os\n",
    "\n",
    "base_dir = 'train/WSI'\n",
    "for file in os.listdir(base_dir):\n",
    "    if file.endswith('.tif'):\n",
    "        patient = file.split('_')[0]\n",
    "        random_class = int(patient)%4\n",
    "        # move the file to WSI/acrobat/random_class\n",
    "        destination_dir = os.path.join(base_dir, 'acrobat', str(random_class))\n",
    "        os.makedirs(destination_dir, exist_ok=True)\n",
    "        shutil.move(os.path.join(base_dir, file), os.path.join(destination_dir, file))\n",
    "        print(f\"Move {file} to {destination_dir}\")"
   ]
  },
  {
   "cell_type": "code",
   "execution_count": null,
   "metadata": {},
   "outputs": [],
   "source": [
    "subfolders = ['./0', './1', './2', './3', './train/WSI']\n",
    "\n",
    "file_counts = {}\n",
    "for subfolder in subfolders:\n",
    "    tif_files = [f for f in os.listdir(subfolder) if f.endswith('.tif') and '_HE_' in f]\n",
    "    file_counts[subfolder] = len(tif_files)\n",
    "\n",
    "for subfolder, count in file_counts.items():\n",
    "    print(f\"{subfolder}: {count} HE images in .tif extension\")"
   ]
  }
 ],
 "metadata": {
  "kernelspec": {
   "display_name": "bci_ai",
   "language": "python",
   "name": "python3"
  },
  "language_info": {
   "codemirror_mode": {
    "name": "ipython",
    "version": 3
   },
   "file_extension": ".py",
   "mimetype": "text/x-python",
   "name": "python",
   "nbconvert_exporter": "python",
   "pygments_lexer": "ipython3",
   "version": "3.10.14"
  }
 },
 "nbformat": 4,
 "nbformat_minor": 2
}
