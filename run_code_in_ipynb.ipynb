{
 "cells": [
  {
   "cell_type": "markdown",
   "metadata": {},
   "source": [
    "# RUN model"
   ]
  },
  {
   "cell_type": "code",
   "execution_count": 1,
   "metadata": {},
   "outputs": [],
   "source": [
    "import os\n",
    "os.environ[\"CUDA_VISIBLE_DEVICES\"] = \"1\"\n",
    "os.environ[\"CUBLAS_WORKSPACE_CONFIG\"] = \":16:8\""
   ]
  },
  {
   "cell_type": "code",
   "execution_count": 4,
   "metadata": {},
   "outputs": [
    {
     "name": "stdout",
     "output_type": "stream",
     "text": [
      "/home/shcho/anaconda3/envs/bci_ai/lib/python3.10/site-packages/albumentations/__init__.py:13: UserWarning: A new version of Albumentations is available: 1.4.18 (you have 1.4.14). Upgrade using: pip install -U albumentations. To disable automatic update checks, set the environment variable NO_ALBUMENTATIONS_UPDATE to 1.\n",
      "  check_for_updates()\n",
      "Skip Fine-tuning classification model\n",
      "Loading train dataset: 100%|████████████████| 3896/3896 [01:27<00:00, 44.46it/s]\n",
      "Traceback (most recent call last):\n",
      "  File \"/data3/shcho/bci_ai/main.py\", line 48, in <module>\n",
      "    framework()\n",
      "  File \"/data3/shcho/bci_ai/main.py\", line 21, in framework\n",
      "    dataloaders = get_bci_dataloaders(args.dataset, type='classification', batch_size=32, num_workers=4, image_size=args.image_size)\n",
      "  File \"/data3/shcho/bci_ai/datasets/BCI_dataset/dataloader.py\", line 149, in get_bci_dataloaders\n",
      "    test_dataset = BCIDataset(type='test', image_size=image_size)\n",
      "  File \"/data3/shcho/bci_ai/datasets/BCI_dataset/dataloader.py\", line 93, in __init__\n",
      "    self.label_dict = self.new_label_dict()\n",
      "  File \"/data3/shcho/bci_ai/datasets/BCI_dataset/dataloader.py\", line 125, in new_label_dict\n",
      "    df = pd.read_csv(filename)\n",
      "  File \"/home/shcho/anaconda3/envs/bci_ai/lib/python3.10/site-packages/pandas/io/parsers/readers.py\", line 1026, in read_csv\n",
      "    return _read(filepath_or_buffer, kwds)\n",
      "  File \"/home/shcho/anaconda3/envs/bci_ai/lib/python3.10/site-packages/pandas/io/parsers/readers.py\", line 620, in _read\n",
      "    parser = TextFileReader(filepath_or_buffer, **kwds)\n",
      "  File \"/home/shcho/anaconda3/envs/bci_ai/lib/python3.10/site-packages/pandas/io/parsers/readers.py\", line 1620, in __init__\n",
      "    self._engine = self._make_engine(f, self.engine)\n",
      "  File \"/home/shcho/anaconda3/envs/bci_ai/lib/python3.10/site-packages/pandas/io/parsers/readers.py\", line 1880, in _make_engine\n",
      "    self.handles = get_handle(\n",
      "  File \"/home/shcho/anaconda3/envs/bci_ai/lib/python3.10/site-packages/pandas/io/common.py\", line 873, in get_handle\n",
      "    handle = open(\n",
      "FileNotFoundError: [Errno 2] No such file or directory: '/data3/shcho/bci_ai/datasets/BCI_dataset/BCI_test_label.csv'\n"
     ]
    }
   ],
   "source": [
    "!python main.py --model_name=resnet18"
   ]
  }
 ],
 "metadata": {
  "kernelspec": {
   "display_name": "bci_ai",
   "language": "python",
   "name": "python3"
  },
  "language_info": {
   "codemirror_mode": {
    "name": "ipython",
    "version": 3
   },
   "file_extension": ".py",
   "mimetype": "text/x-python",
   "name": "python",
   "nbconvert_exporter": "python",
   "pygments_lexer": "ipython3",
   "version": "3.10.14"
  }
 },
 "nbformat": 4,
 "nbformat_minor": 2
}
