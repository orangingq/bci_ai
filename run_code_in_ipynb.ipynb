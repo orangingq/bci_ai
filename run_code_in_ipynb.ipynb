{
 "cells": [
  {
   "cell_type": "code",
   "execution_count": 1,
   "metadata": {},
   "outputs": [],
   "source": [
    "import os\n",
    "os.environ[\"CUDA_VISIBLE_DEVICES\"] = \"\"\n",
    "os.environ[\"CUBLAS_WORKSPACE_CONFIG\"] = \":16:8\""
   ]
  },
  {
   "cell_type": "code",
   "execution_count": 4,
   "metadata": {},
   "outputs": [
    {
     "name": "stdout",
     "output_type": "stream",
     "text": [
      "/home/shcho/anaconda3/envs/bci_ai/lib/python3.10/site-packages/albumentations/__init__.py:13: UserWarning: A new version of Albumentations is available: 1.4.18 (you have 1.4.14). Upgrade using: pip install -U albumentations. To disable automatic update checks, set the environment variable NO_ALBUMENTATIONS_UPDATE to 1.\n",
      "  check_for_updates()\n",
      "Arguments are set as follows: {'seed': 42, 'dataset': 'BCI_dataset', 'image_size': 224, 'model_name': 'resnet18', 'optimizer_name': 'Adam', 'learning_rate': 0.001, 'log_freq': 30, 'finetune': False, 'load_dir': None, 'save_dir': None, 'device': device(type='cpu')}\n",
      "Skip Fine-tuning classification model\n",
      "Loading train dataset: 100%|████████████████| 3896/3896 [01:34<00:00, 41.08it/s]\n",
      "Loading test dataset: 100%|███████████████████| 977/977 [00:16<00:00, 58.16it/s]\n",
      "Classification Inference\n",
      "/data3/shcho/bci_ai/main.py:35: FutureWarning: You are using `torch.load` with `weights_only=False` (the current default value), which uses the default pickle module implicitly. It is possible to construct malicious pickle data which will execute arbitrary code during unpickling (See https://github.com/pytorch/pytorch/blob/main/SECURITY.md#untrusted-models for more details). In a future release, the default value for `weights_only` will be flipped to `True`. This limits the functions that could be executed during unpickling. Arbitrary objects will no longer be allowed to be loaded via this mode unless they are explicitly allowlisted by the user via `torch.serialization.add_safe_globals`. We recommend you start setting `weights_only=True` for any use case where you don't have full control of the loaded file. Please open an issue on GitHub for any issues related to this experimental feature.\n",
      "  mask_dict = torch.load(f'datasets/BCI_dataset/segmented_result/{data_type}/masks.pth')\n",
      "Compute Final Grade\n"
     ]
    }
   ],
   "source": [
    "!python main.py --model_name=resnet18"
   ]
  }
 ],
 "metadata": {
  "kernelspec": {
   "display_name": "bci_ai",
   "language": "python",
   "name": "python3"
  },
  "language_info": {
   "codemirror_mode": {
    "name": "ipython",
    "version": 3
   },
   "file_extension": ".py",
   "mimetype": "text/x-python",
   "name": "python",
   "nbconvert_exporter": "python",
   "pygments_lexer": "ipython3",
   "version": "3.10.14"
  }
 },
 "nbformat": 4,
 "nbformat_minor": 2
}
